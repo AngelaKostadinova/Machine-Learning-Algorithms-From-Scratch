{
 "cells": [
  {
   "cell_type": "markdown",
   "metadata": {
    "collapsed": true
   },
   "source": [
    "# Decision Tree\n",
    "\n",
    "In this notebook, we will introduce one of the most popular supervised machine learning algorithms called decision tree. It can be used for both regression and classification algorithm. Here we mainly discuss decision tree from classification perspective."
   ]
  },
  {
   "cell_type": "code",
   "execution_count": 1,
   "metadata": {
    "collapsed": true
   },
   "outputs": [],
   "source": [
    "import numpy as np\n",
    "import matplotlib.pylab as plt\n",
    "import seaborn as sns\n",
    "\n",
    "from abc import ABCMeta, abstractclassmethod\n",
    "\n",
    "%matplotlib inline"
   ]
  },
  {
   "cell_type": "markdown",
   "metadata": {},
   "source": [
    "## Introduction \n",
    "\n",
    "<p><center>![Basic Tree Terminology](../../images/inkscape/basic_tree.svg)</center></p>\n",
    "<p><center><b>Figure 1</b>: Basic Tree Terminology</center></p>\n",
    "\n",
    "\n",
    "## Building Tree Model\n",
    "\n",
    "<p><center>![Basic Tree Terminology](../../images/inkscape/tree_building.svg)</center></p>\n",
    "<p><center><b>Figure 2</b>: Basic Tree Terminology</center></p>\n",
    "\n",
    "\n",
    "## Splitting Data into Different Regions\n",
    "\n",
    "<p><center>![Basic Tree Terminology](../../images/inkscape/tree_partition.svg)</center></p>\n",
    "<p><center><b>Figure 2</b>: Basic Tree Terminology</center></p>\n",
    "\n",
    "## How to Choose Best Split?\n",
    "\n",
    "## Decision Tree Algorithm"
   ]
  },
  {
   "cell_type": "markdown",
   "metadata": {
    "collapsed": true
   },
   "source": [
    "$$H(S)=-\\sum_{c \\in C}p(c)log_2\\big(p(c)\\big)$$"
   ]
  },
  {
   "cell_type": "code",
   "execution_count": 2,
   "metadata": {
    "collapsed": true
   },
   "outputs": [],
   "source": [
    "def entropy(x):\n",
    "    # remove all zero and negative values\n",
    "    x = x[x > 0]\n",
    "    return -np.sum(x * np.log2(x))"
   ]
  },
  {
   "cell_type": "markdown",
   "metadata": {},
   "source": [
    "$$I = H(S) - \\sum_{i \\in (1, 2)}\\frac{S^{i}}{S}H(S^{i})$$"
   ]
  },
  {
   "cell_type": "code",
   "execution_count": 3,
   "metadata": {
    "collapsed": true
   },
   "outputs": [],
   "source": [
    "def expected_entropy(s_i, s_size):\n",
    "    s_i_size = s_i.shape[0]\n",
    "    if s_i_size == 0:\n",
    "        return 0.0\n",
    "    return ((s_i_size) / s_size) * entropy(s_i)\n",
    "    \n",
    "def information_gain(x, cutoff_index):\n",
    "    x_size = x.shape[0]\n",
    "    left = expected_entropy(x[:cutoff_index], x_size)\n",
    "    right = expected_entropy(x[cutoff_index:], x_size)\n",
    "    return entropy(x) - (left + right)"
   ]
  },
  {
   "cell_type": "code",
   "execution_count": 4,
   "metadata": {
    "collapsed": true
   },
   "outputs": [],
   "source": [
    "class Node(object):\n",
    "    def __init__(self, id=None, description=None):\n",
    "        self._id = id\n",
    "        self._description = description\n",
    "        \n",
    "    @property\n",
    "    def id(self):\n",
    "        return self._id\n",
    "    \n",
    "    @id.setter\n",
    "    def id(self, value):\n",
    "        self._id = value\n",
    "        \n",
    "    @property\n",
    "    def description(self):\n",
    "        return self._description\n",
    "    \n",
    "    @description.setter\n",
    "    def description(self, value):\n",
    "        self._description = value  \n",
    "        \n",
    "class Leaf(Node):\n",
    "    def __init__(self, values, n_classes, id=None, description=None):\n",
    "        Node.__init__(id, description)\n",
    "        self._values = values\n",
    "        \n",
    "    @property\n",
    "    def values(self):\n",
    "        return self._values\n",
    "    \n",
    "    @values.setter\n",
    "    def values(self, value):\n",
    "        self._values = value\n",
    "        \n",
    "class Internal(Node):\n",
    "    def __init__(self, dim, threshold, left_child, right_child, node_id=None, description=None):\n",
    "        Node.__init__(id, description)\n",
    "        self._dim = dim\n",
    "        self._threshold = threshold\n",
    "        self._left_child = left_child\n",
    "        self._right_child = right_child\n",
    "        \n",
    "    @property\n",
    "    def dim(self):\n",
    "        return self._dim\n",
    "        \n",
    "    @dim.setter\n",
    "    def dim(self, value):\n",
    "        self._dim = value\n",
    "        \n",
    "    @property\n",
    "    def threshold(self):\n",
    "        return self._threshold\n",
    "    \n",
    "    @threshold.setter\n",
    "    def threshold(self, value):\n",
    "        self._threshold = threshold\n",
    "        \n",
    "    @property\n",
    "    def left_child(self):\n",
    "        return self._left_child\n",
    "    \n",
    "    @left_child.setter\n",
    "    def left_child(self, value):\n",
    "        self._left_child = value\n",
    "        \n",
    "    @property\n",
    "    def right_child(self):\n",
    "        return self._right_child\n",
    "    \n",
    "    @right_child.setter\n",
    "    def right_child(self, value):\n",
    "        self._right_child = value"
   ]
  },
  {
   "cell_type": "code",
   "execution_count": 5,
   "metadata": {
    "collapsed": false
   },
   "outputs": [
    {
     "ename": "NameError",
     "evalue": "name 'abstractmethod' is not defined",
     "output_type": "error",
     "traceback": [
      "\u001b[0;31m---------------------------------------------------------------------------\u001b[0m",
      "\u001b[0;31mNameError\u001b[0m                                 Traceback (most recent call last)",
      "\u001b[0;32m<ipython-input-5-5af824befd40>\u001b[0m in \u001b[0;36m<module>\u001b[0;34m()\u001b[0m\n\u001b[0;32m----> 1\u001b[0;31m \u001b[0;32mclass\u001b[0m \u001b[0mBaseTree\u001b[0m\u001b[0;34m(\u001b[0m\u001b[0mmetaclass\u001b[0m\u001b[0;34m=\u001b[0m\u001b[0mABCMeta\u001b[0m\u001b[0;34m)\u001b[0m\u001b[0;34m:\u001b[0m\u001b[0;34m\u001b[0m\u001b[0m\n\u001b[0m\u001b[1;32m      2\u001b[0m     \u001b[0;32mdef\u001b[0m \u001b[0m__init__\u001b[0m\u001b[0;34m(\u001b[0m\u001b[0mself\u001b[0m\u001b[0;34m,\u001b[0m \u001b[0mmax_depth\u001b[0m\u001b[0;34m=\u001b[0m\u001b[0;32mNone\u001b[0m\u001b[0;34m,\u001b[0m \u001b[0mn_min_leaf\u001b[0m\u001b[0;34m=\u001b[0m\u001b[0;36m2\u001b[0m\u001b[0;34m,\u001b[0m \u001b[0mn_trials\u001b[0m\u001b[0;34m=\u001b[0m\u001b[0;32mNone\u001b[0m\u001b[0;34m)\u001b[0m\u001b[0;34m:\u001b[0m\u001b[0;34m\u001b[0m\u001b[0m\n\u001b[1;32m      3\u001b[0m         \u001b[0mself\u001b[0m\u001b[0;34m.\u001b[0m\u001b[0m_max_depth\u001b[0m \u001b[0;34m=\u001b[0m \u001b[0mmax_depth\u001b[0m\u001b[0;34m\u001b[0m\u001b[0m\n\u001b[1;32m      4\u001b[0m         \u001b[0mself\u001b[0m\u001b[0;34m.\u001b[0m\u001b[0m_n_min_leaf\u001b[0m \u001b[0;34m=\u001b[0m \u001b[0mn_min_leaf\u001b[0m\u001b[0;34m\u001b[0m\u001b[0m\n\u001b[1;32m      5\u001b[0m         \u001b[0mself\u001b[0m\u001b[0;34m.\u001b[0m\u001b[0m_n_trials\u001b[0m \u001b[0;34m=\u001b[0m \u001b[0mn_trials\u001b[0m\u001b[0;34m\u001b[0m\u001b[0m\n",
      "\u001b[0;32m<ipython-input-5-5af824befd40>\u001b[0m in \u001b[0;36mBaseTree\u001b[0;34m()\u001b[0m\n\u001b[1;32m     56\u001b[0m         \u001b[0;32mpass\u001b[0m\u001b[0;34m\u001b[0m\u001b[0m\n\u001b[1;32m     57\u001b[0m \u001b[0;34m\u001b[0m\u001b[0m\n\u001b[0;32m---> 58\u001b[0;31m     \u001b[0;34m@\u001b[0m\u001b[0mabstractmethod\u001b[0m\u001b[0;34m\u001b[0m\u001b[0m\n\u001b[0m\u001b[1;32m     59\u001b[0m     \u001b[0;32mdef\u001b[0m \u001b[0m_find_best_split_threshold\u001b[0m\u001b[0;34m(\u001b[0m\u001b[0mself\u001b[0m\u001b[0;34m,\u001b[0m \u001b[0mfeature_vector\u001b[0m\u001b[0;34m,\u001b[0m \u001b[0mresponse\u001b[0m\u001b[0;34m)\u001b[0m\u001b[0;34m:\u001b[0m\u001b[0;34m\u001b[0m\u001b[0m\n\u001b[1;32m     60\u001b[0m         \u001b[0;32mpass\u001b[0m\u001b[0;34m\u001b[0m\u001b[0m\n",
      "\u001b[0;31mNameError\u001b[0m: name 'abstractmethod' is not defined"
     ]
    }
   ],
   "source": [
    "class BaseTree(metaclass=ABCMeta):\n",
    "    def __init__(self, max_depth=None, n_min_leaf=2, n_trials=None):\n",
    "        self._max_depth = max_depth\n",
    "        self._n_min_leaf = n_min_leaf\n",
    "        self._n_trials = n_trials\n",
    "        \n",
    "        self._root_node = None \n",
    "        self._num_classes = None # delete ?\n",
    "        \n",
    "    @property\n",
    "    def max_depth(self):\n",
    "        return self._max_depth\n",
    "    \n",
    "    @max_depth.setter\n",
    "    def max_depth(self, value):\n",
    "        self._max_depth = value\n",
    "        \n",
    "    @property\n",
    "    def n_min_leaf(self):\n",
    "        self._n_min_leaf\n",
    "        \n",
    "    @n_min_leaf.setter\n",
    "    def n_min_leaf(self, value):\n",
    "        self._n_min_leaf = value\n",
    "        \n",
    "    @property\n",
    "    def n_trials(self):\n",
    "        return self._n_trials\n",
    "    \n",
    "    @n_trials.setter\n",
    "    def n_trials(self, value):\n",
    "        self._n_trials = value   \n",
    "    \n",
    "    def fit(self, X_train, y_train):\n",
    "        pass\n",
    "    \n",
    "    def prefict(self, X_test):\n",
    "        pass    \n",
    "    \n",
    "    def _fit(self, X, y, max_depth=None, n_min_leaf=None, n_trails=None):\n",
    "        n_classes = np.unique(y).shape[0\n",
    "                                      ]\n",
    "        # if all data points are in the same class, creae a leaf\n",
    "        if np.all(y == y[0]):\n",
    "            return Leaf(y, n_classes)\n",
    "        \n",
    "        # if we have reached the max_depth, create a leaf\n",
    "        if max_depth is not None and max_depth <= 0:\n",
    "            return Leaf(y, n_classes)\n",
    "        \n",
    "        # Now we have to split the current node\n",
    "        # First calculate split parameters\n",
    "        \n",
    "    \n",
    "    def _split_parameters(self, X, Y, n_min_leaf=None, n_trials=None):\n",
    "        pass\n",
    "    \n",
    "    @abstractmethod\n",
    "    def _find_best_split_threshold(self, feature_vector, response):\n",
    "        pass\n",
    "\n",
    "    @abstractmethod\n",
    "    def _predict_single_data_point(self, X, node, emit_probability=False):\n",
    "        pass"
   ]
  },
  {
   "cell_type": "markdown",
   "metadata": {},
   "source": [
    "## References and Further Reading\n",
    "\n",
    "1. https://www.microsoft.com/en-us/research/wp-content/uploads/2016/02/decisionForests_MSR_TR_2011_114.pdf [Decision Forests for Classification, Regression, Density Estimation, Manifold Learning and Semi-Supervised Learning]\n",
    "\n",
    "2. "
   ]
  }
 ],
 "metadata": {
  "kernelspec": {
   "display_name": "Python 3",
   "language": "python",
   "name": "python3"
  },
  "language_info": {
   "codemirror_mode": {
    "name": "ipython",
    "version": 3
   },
   "file_extension": ".py",
   "mimetype": "text/x-python",
   "name": "python",
   "nbconvert_exporter": "python",
   "pygments_lexer": "ipython3",
   "version": "3.6.0"
  }
 },
 "nbformat": 4,
 "nbformat_minor": 2
}
