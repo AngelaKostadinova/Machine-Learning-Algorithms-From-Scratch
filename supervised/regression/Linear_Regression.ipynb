{
 "cells": [
  {
   "cell_type": "markdown",
   "metadata": {},
   "source": [
    "# Linear Regression\n",
    "\n",
    "\n",
    "In this notebook, we will show you how to implement linear regression from scratch. "
   ]
  },
  {
   "cell_type": "code",
   "execution_count": 1,
   "metadata": {
    "collapsed": true
   },
   "outputs": [],
   "source": [
    "import numpy as np\n",
    "import matplotlib.pyplot as plt\n",
    "import seaborn as sns\n",
    "from util import print_result\n",
    "\n",
    "sns.set()\n",
    "%matplotlib inline "
   ]
  },
  {
   "cell_type": "markdown",
   "metadata": {},
   "source": [
    "## Introduction \n",
    "\n",
    "In this chapter, we introduce linear models for regression applications. Linear models are relatively simple models but it is well worth studying linear models due to two main reasons. If the relationship between input features (denoted by $\\mathbf{x}$) and response variable (denoted by $\\mathbf{y}$) linear models perform better than more advanced machine learning models. Secondly, a firm understanding of linear models will help us to easily grasp more advanced concepts we will study under the non-linear models."
   ]
  },
  {
   "cell_type": "markdown",
   "metadata": {},
   "source": [
    "## Let’s Predict Car Price\n",
    "\n",
    "Let’s start our discussion with a simple real-world example. Assuming you are running a secondhand car showroom. The main object of your business is to sell used cars to potential customers. In order to prevent losing customers and hence, maximizing your profile, it is necessary to assign correct price tag for each car you are selling in your showroom. \n",
    "Since you are somewhat familiar with machine learning you are are going to address this problem using linear regression. From your previous experience, you are well aware a price tag of a car depends on several parameters such as mileage, manufacturing year, and engine capacity. For simplicity initially, we assume that price depends only on mileage, manufacturing year. So you collect those data from your previous successful deals and presented as shown in **Table 1**. \n",
    "\n",
    "|Mileage ( in 10,000 km )|Manufacturing Year| Price in ( 1000 USD)|\n",
    "| :------------- |:-------------| :-----|\n",
    "| 5      | 2010     |5.5  |\n",
    "| 10     | 2000     |3.1  |\n",
    "| 12     | 1999     |2.1  |\n",
    "| 4      | 2012     |5.1  |\n",
    "| 8      | 2001     |2.1  |\n",
    "| 7      | 2002     |2.2  |\n",
    "| 15     | 1997     |0.8  |\n",
    "| 3      | 2008     |3.5  |\n",
    "| 6.5    | 2003     |4.0  |\n",
    "| 3.4    | 2013     |5.1  |\n",
    "\n",
    "In order to better understand the relationship between car price and manufacturing year, let’s draw a scatter plot.\n"
   ]
  },
  {
   "cell_type": "markdown",
   "metadata": {},
   "source": [
    "<p><center>![Basic Tree Terminology](../../images/inkscape/car_prices_scatter.svg)</center></p>\n",
    "<p><center><b>Figure 1</b>: Distribution of car prices against the manufacturing year.</center></p>\n",
    "\n",
    "According to our scatter plot, it looks like we can use a straight line to represent the relationship between the manufacturing year and the car price. So if I use $x$ to represent manufacturing year and $y$ is to represent car price we can use $y = w_1*x + w_0$ equation to represent the relationship between the manufacturing year and the car price. However, from your high-school mathematics, you know just two points are enough for drawing a straight line. Hence, we can draw so many lines. Two of those lines are shown in **Figure 2**.\n",
    "\n",
    "<p><center>![Basic Tree Terminology](../../images/inkscape/possible_lines.svg)</center></p>\n",
    "<p><center><b>Figure 1</b>: Basic Tree Terminology</center></p>\n",
    "\n",
    "Now the question is how we can select the best straight line which correctly describes the relationship. In Figure 3 we show one possible straight line. Also, distances between line and the points which are not on the line are denoted by $\\Delta$. So the basic idea of the linear regression is to find out a straight line which minimizes the error terms.\n",
    "\n",
    "<p><center>![Basic Tree Terminology](../../images/inkscape/error_distances.svg)</center></p>\n",
    "<p><center><b>Figure 1</b>: Basic Tree Terminology</center></p>\n",
    "\n",
    "So if we consider one particular prediction (denoted by $f(x_n; w_0, w_1)$  and coresponsing actual target value (denoted by $t_n$), the error between actual and predicted values can be contified by:\n",
    "\n",
    "$$(t_n - f(x_n; w_0, w_1))^2$$\n",
    "\n",
    "Considering all N data points this can be written as:\n",
    "\n",
    "$$L(\\mathbf{w}) = \\frac{1}{N}\\sum_{i=1}^N(t_n - f(x_n; w_0, w_1)^2$$\n",
    "\n",
    "The same thing can be written in matrix notation as given below.\n",
    "\n",
    "$$L(\\mathbf{w}) = \\frac{1}{N}(\\mathbf{t} - \\mathbf{Xw})^T(\\mathbf{t} - \\mathbf{Xw})$$\n",
    "\n",
    "So now we want to find $\\mathbf{w}$  in order to minimize $L(\\mathbf{w})$.\n",
    "\n",
    "$$\n",
    "\\begin{align}\n",
    "  L(\\mathbf{w}) & = \\frac{1}{N}(\\mathbf{t} - \\mathbf{Xw})^T (\\mathbf{t} - \\mathbf{Xw})\\\\\n",
    "                & = \\frac{1}{N}(\\mathbf{t}^T - \\mathbf{w^TX^T})(\\mathbf{t} - \\mathbf{Xw}) \\\\\n",
    "                & = \\frac{1}{N}(\\mathbf{tt^T} - \\mathbf{t^TXw} - \\mathbf{w^TX^Tt} + \\mathbf{w^TX^TXw}) \\\\\n",
    "                & = \\frac{1}{N}(\\mathbf{tt^T} -2\\mathbf{w^TX^Tt} + \\mathbf{w^TX^TXw}) \\\\\n",
    "\\end{align}\n",
    "$$\n",
    "\n",
    "Please note that, both $ \\mathbf{t^TXw}$ and $\\mathbf{w^TX^Tt}$ are scalars and transpose of one another. Hece, we use $2\\mathbf{w^TX^Tt}$. Next, we take the derivative of $L(\\mathbf{w})$ w. r. t. $\\mathbf{w}$. Also, it is worth to mention the following useful identities when differentiating w. r. t. a vector.\n",
    "\n",
    "| $f(\\mathbf{w})$                | $\\frac{{\\partial f}}{ {\\partial \\mathbf{w}}}$ |\n",
    "|:-------------------------------:|:---------------:|\n",
    "| $\\mathbf{w^T}x$                | $\\mathbf{x}$             |\n",
    "| $\\mathbf{x^Tw}$                | $\\mathbf{w^T}$ |\n",
    "| $\\mathbf{w^Tw}$ | $\\mathbf{2\\mathbf{w}}$ |\n",
    "| $\\mathbf{w^TCw}$ | $\\mathbf{2\\mathbf{Cw}}$ |\n",
    "<center><b>Table</b> 2: Useful identities when differentiating w. r. t. a vector</center>\n",
    "\n",
    "\n",
    "$$\n",
    "\\begin{align}\n",
    "  \\Delta_{\\mathbf{w}}L & = \\frac{1}{N}\\Big[\\mathbf{0} - 2\\mathbf{X^Tt} + 2\\mathbf{X^TXw}\\Big] \\\\\n",
    "                       & = \\frac{2}{N}\\Big[\\mathbf{X^TXw} - \\mathbf{X^Tt}\\Big] \\\\\n",
    "                       & = \\frac{2\\mathbf{X^T}}{N}\\Big[\\mathbf{Xw} - \\mathbf{t}\\Big] \\\\\n",
    "\\end{align}\n",
    "$$\n",
    "\n",
    "Great, now we have calculated the gradient of the loss function w.r.t. w. Next, we are going to use Gradient Descent to implement our very own linear regression algorithm in Python."
   ]
  },
  {
   "cell_type": "code",
   "execution_count": 2,
   "metadata": {
    "collapsed": true
   },
   "outputs": [],
   "source": [
    "class LinearRegression:\n",
    "    def __init__(self, learning_rate=1e-3, max_iters=250):\n",
    "        self.learning_rate = learning_rate\n",
    "        self.max_iters = max_iters\n",
    "        self.weights = None\n",
    "\n",
    "    def fit(self, X_train, y_train):\n",
    "        X_train = self._fit_intercept(X_train)\n",
    "        self.weights = np.random.rand(X_train.shape[1])\n",
    "\n",
    "        for iter in range(self.max_iters):\n",
    "            self.weights = self.weights - self.learning_rate * \\\n",
    "                self._grad(X_train, y_train, self.weights)\n",
    "            cost = self._cost(X_train, y_train, self.weights)\n",
    "            print_result(iter, cost)\n",
    "\n",
    "    def predict(self, X_predict):\n",
    "        \"\"\" This method predicts responses for new data.\n",
    "\n",
    "        This method will be used for end-users to predict responses\n",
    "        for future data.\n",
    "\n",
    "        Arguments:\n",
    "            X_predict: new data\n",
    "\n",
    "        Returns: a vector of responses            \n",
    "        \"\"\"\n",
    "        return X_predict @ self.weights\n",
    "\n",
    "    @staticmethod\n",
    "    def _cost(X_train, y_train, weights):\n",
    "        \"\"\"Calculates the cost w.r.t. weights\n",
    "\n",
    "        This helper method calculates the cost w.r.t. weights\n",
    "\n",
    "        Arguments:\n",
    "            X_train: training features\n",
    "            y_train: training labels.\n",
    "            weights: weights vector of the model\n",
    "        \n",
    "        Returns: scalar value which represents the cost\n",
    "        \"\"\"\n",
    "        dif = (y_train - X_train @ weights)\n",
    "        return (dif.T @ dif) / X_train.shape[0]\n",
    "\n",
    "    @staticmethod\n",
    "    def _fit_intercept(X_train):\n",
    "        \"\"\"Add the intercepting term to the training dataset\n",
    "\n",
    "        This simple helper method adds the intercepting term to the \n",
    "        training dataset.\n",
    "\n",
    "        Arguments:\n",
    "            X_train: training dataset\n",
    "\n",
    "        Returns: training dataset with the interceptor\n",
    "        \"\"\"\n",
    "        return np.column_stack((np.ones(X_train.shape[0]), X_train))\n",
    "\n",
    "    @staticmethod\n",
    "    def _grad(X_train, y_train, weights):\n",
    "        \"\"\"Calculates the gradient of the cost function w.r.t. weight vector\n",
    "\n",
    "        This methods calculated the gradient of the cost function w.r.t. \n",
    "        weight vector.\n",
    "\n",
    "        Arguments:\n",
    "            X_train: training features\n",
    "            y_train: training labels.\n",
    "            weights: weights vector of the model\n",
    "        \n",
    "        Returns: scalar value which represents the cost\n",
    "        \"\"\"\n",
    "        return 2 * (X_train.T @ (X_train @ weights - y_train)) / X_train.shape[0]"
   ]
  },
  {
   "cell_type": "code",
   "execution_count": 3,
   "metadata": {
    "collapsed": false
   },
   "outputs": [
    {
     "name": "stdout",
     "output_type": "stream",
     "text": [
      "iteration:          0\t\tcost: 8.3509e-01\n",
      "iteration:          1\t\tcost: 8.3127e-01\n",
      "iteration:          2\t\tcost: 8.2849e-01\n",
      "iteration:          3\t\tcost: 8.2643e-01\n",
      "iteration:          4\t\tcost: 8.2485e-01\n",
      "iteration:          5\t\tcost: 8.2362e-01\n",
      "iteration:          6\t\tcost: 8.2261e-01\n",
      "iteration:          7\t\tcost: 8.2176e-01\n",
      "iteration:          8\t\tcost: 8.2101e-01\n",
      "iteration:          9\t\tcost: 8.2034e-01\n",
      "iteration:         10\t\tcost: 8.1972e-01\n",
      "iteration:         20\t\tcost: 8.1440e-01\n",
      "iteration:         30\t\tcost: 8.0937e-01\n",
      "iteration:         40\t\tcost: 8.0441e-01\n",
      "iteration:         50\t\tcost: 7.9952e-01\n",
      "iteration:         60\t\tcost: 7.9470e-01\n",
      "iteration:         70\t\tcost: 7.8994e-01\n",
      "iteration:         80\t\tcost: 7.8525e-01\n",
      "iteration:         90\t\tcost: 7.8062e-01\n",
      "iteration:        100\t\tcost: 7.7606e-01\n",
      "iteration:        200\t\tcost: 7.3371e-01\n"
     ]
    },
    {
     "data": {
      "image/png": "[encoded data removed]",
      "text/plain": [
       "<matplotlib.figure.Figure at 0x7fd7914c7a58>"
      ]
     },
     "metadata": {},
     "output_type": "display_data"
    }
   ],
   "source": [
    "X_train = np.array([2010, 2000, 1999, 2012, 2001, 2002,\n",
    "                        1997, 2008, 2003, 2013]).reshape((10, 1))\n",
    "X_train = X_train - X_train.min()\n",
    "y_train = np.array([5.5, 3.1, 2.0, 6.1, 2.1, 2.2, 0.8, 3.5, 4.0, 5.1])\n",
    "model = LinearRegression()\n",
    "model.fit(X_train, y_train)\n",
    "\n",
    "predicted_points = np.linspace(X_train.min(), X_train.max(), 100) * \\\n",
    "        model.weights[1] + model.weights[0]\n",
    "\n",
    "fig, axes = plt.subplots(1, 2, figsize=(14, 6))\n",
    "\n",
    "axes[0].scatter(X_train, y_train, s=75, color='#dd1c77', alpha=0.5, edgecolors='none')\n",
    "axes[0].set_title('Car Price Dataset')\n",
    "axes[0].set_xlabel('Car Price in 1000 USD')\n",
    "axes[0].set_ylabel('Manufacturing Year - 1996')\n",
    "\n",
    "axes[1].scatter(X_train, y_train, s=75, color='#dd1c77', alpha=0.5, edgecolors='none')\n",
    "axes[1].plot(np.linspace(X_train.min(), X_train.max(), 100),\n",
    "                 predicted_points, color='#c994c7', linewidth=3, alpha=0.5)\n",
    "axes[1].set_title('Car Price Dataset with Fitted Line')\n",
    "axes[1].set_xlabel('Car Price in 1000 USD')\n",
    "axes[1].set_ylabel('Manufacturing Year - 1996')\n",
    "\n",
    "fig.suptitle('Training a simple Linear Regression to car prices dataset')\n",
    "plt.show()"
   ]
  },
  {
   "cell_type": "markdown",
   "metadata": {
    "collapsed": true
   },
   "source": [
    "## Summary\n",
    "\n",
    "In this notebook, we implemented linear regression algorithms form the scratch. We started with necessary assumptions and derived all necessary mathematical formula. Next, we converted those formulae into python code."
   ]
  },
  {
   "cell_type": "markdown",
   "metadata": {},
   "source": [
    "## References and Further Reading"
   ]
  }
 ],
 "metadata": {
  "kernelspec": {
   "display_name": "Python 3",
   "language": "python",
   "name": "python3"
  },
  "language_info": {
   "codemirror_mode": {
    "name": "ipython",
    "version": 3
   },
   "file_extension": ".py",
   "mimetype": "text/x-python",
   "name": "python",
   "nbconvert_exporter": "python",
   "pygments_lexer": "ipython3",
   "version": "3.6.0"
  }
 },
 "nbformat": 4,
 "nbformat_minor": 2
}
