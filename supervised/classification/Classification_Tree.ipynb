{
 "cells": [
  {
   "cell_type": "markdown",
   "metadata": {
    "collapsed": true
   },
   "source": [
    "# Decision Tree\n",
    "\n",
    "In this notebook, we will introduce one of the most popular supervised machine learning algorithms called decision tree. It can be used for both regression and classification algorithm. Here we mainly discuss decision tree from classification perspective."
   ]
  },
  {
   "cell_type": "markdown",
   "metadata": {},
   "source": [
    "## Introduction \n",
    "\n",
    "\n",
    "## Building Tree Model\n",
    "\n",
    "## Splitting Data into Different Regions\n",
    "\n",
    "## How to Choose Best Split?\n",
    "\n",
    "## Decision Tree Algorithm"
   ]
  },
  {
   "cell_type": "code",
   "execution_count": 2,
   "metadata": {
    "collapsed": true
   },
   "outputs": [],
   "source": [
    "import numpy as np\n",
    "import matplotlib.pylab as plt\n",
    "import seaborn as sns\n",
    "\n",
    "from abc import ABCMeta, abstractclassmethod\n",
    "\n",
    "%matplotlib inline"
   ]
  },
  {
   "cell_type": "markdown",
   "metadata": {
    "collapsed": true
   },
   "source": [
    "$$H(S)=-\\sum_{c \\in C}p(c)log_2\\big(p(c)\\big)$$"
   ]
  },
  {
   "cell_type": "code",
   "execution_count": 9,
   "metadata": {
    "collapsed": true
   },
   "outputs": [],
   "source": [
    "def entropy(x):\n",
    "    # remove all zero and negative values\n",
    "    x = x[x > 0]\n",
    "    return -np.sum(x * np.log2(x))"
   ]
  },
  {
   "cell_type": "markdown",
   "metadata": {},
   "source": [
    "$$I = H(S) - \\sum_{i \\in (1, 2)}\\frac{S^{i}}{S}H(S^{i})$$"
   ]
  },
  {
   "cell_type": "code",
   "execution_count": 19,
   "metadata": {
    "collapsed": true
   },
   "outputs": [],
   "source": [
    "def expected_entropy(s_i, s_size):\n",
    "    s_i_size = s_i.shape[0]\n",
    "    if s_i_size == 0:\n",
    "        return 0.0\n",
    "    return ((s_i_size) / s_size) * entropy(s_i)\n",
    "    \n",
    "def information_gain(x, cutoff_index):\n",
    "    x_size = x.shape[0]\n",
    "    left = expected_entropy(x[:cutoff_index], x_size)\n",
    "    right = expected_entropy(x[cutoff_index:], x_size)\n",
    "    return entropy(x) - (left + right)"
   ]
  },
  {
   "cell_type": "code",
   "execution_count": 23,
   "metadata": {
    "collapsed": true
   },
   "outputs": [],
   "source": [
    "class Node(object):\n",
    "    def __init__(self, id=None, description=None):\n",
    "        self._id = id\n",
    "        self._description = description\n",
    "        \n",
    "    @property\n",
    "    def id(self):\n",
    "        return self._id\n",
    "    \n",
    "    @id.setter\n",
    "    def id(self, value):\n",
    "        self._id = value\n",
    "        \n",
    "    @property\n",
    "    def description(self):\n",
    "        return self._description\n",
    "    \n",
    "    @description.setter\n",
    "    def description(self, value):\n",
    "        self._description = value  \n",
    "        \n",
    "class Leaf(Node):\n",
    "    def __init__(self, values, n_classes, id=None, description=None):\n",
    "        Node.__init__(id, description)\n",
    "        self._values = values\n",
    "        \n",
    "    @property\n",
    "    def values(self):\n",
    "        return self._values\n",
    "    \n",
    "    @values.setter\n",
    "    def values(self, value):\n",
    "        self._values = value\n",
    "        \n",
    "class Internal(Node):\n",
    "    def __init__(self, dim, threshold, left_child, right_child, node_id=None, description=None):\n",
    "        Node.__init__(id, description)\n",
    "        self._dim = dim\n",
    "        self._threshold = threshold\n",
    "        self._left_child = left_child\n",
    "        self._right_child = right_child\n",
    "        \n",
    "    @property\n",
    "    def dim(self):\n",
    "        return self._dim\n",
    "        \n",
    "    @dim.setter\n",
    "    def dim(self, value):\n",
    "        self._dim = value\n",
    "        \n",
    "    @property\n",
    "    def threshold(self):\n",
    "        return self._threshold\n",
    "    \n",
    "    @threshold.setter\n",
    "    def threshold(self, value):\n",
    "        self._threshold = threshold\n",
    "        \n",
    "    @property\n",
    "    def left_child(self):\n",
    "        return self._left_child\n",
    "    \n",
    "    @left_child.setter\n",
    "    def left_child(self, value):\n",
    "        self._left_child = value\n",
    "        \n",
    "    @property\n",
    "    def right_child(self):\n",
    "        return self._right_child\n",
    "    \n",
    "    @right_child.setter\n",
    "    def right_child(self, value):\n",
    "        self._right_child = value"
   ]
  },
  {
   "cell_type": "code",
   "execution_count": null,
   "metadata": {
    "collapsed": true
   },
   "outputs": [],
   "source": [
    "class BaseTree(metaclass=ABCMeta):\n",
    "    def __init__(self, max_depth=None, n_min_leaf=2, n_trials=None):\n",
    "        pass\n",
    "    \n",
    "    def fit(self, X_train, y_train):\n",
    "        pass\n",
    "    \n",
    "    def prefict(self, X_test):\n",
    "        pass\n",
    "    "
   ]
  }
 ],
 "metadata": {
  "kernelspec": {
   "display_name": "Python 3",
   "language": "python",
   "name": "python3"
  },
  "language_info": {
   "codemirror_mode": {
    "name": "ipython",
    "version": 3
   },
   "file_extension": ".py",
   "mimetype": "text/x-python",
   "name": "python",
   "nbconvert_exporter": "python",
   "pygments_lexer": "ipython3",
   "version": "3.6.3"
  }
 },
 "nbformat": 4,
 "nbformat_minor": 2
}
