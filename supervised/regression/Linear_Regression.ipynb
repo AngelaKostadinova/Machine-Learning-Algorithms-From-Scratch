{
 "cells": [
  {
   "cell_type": "markdown",
   "metadata": {},
   "source": [
    "# Linear Regression\n",
    "\n",
    "\n",
    "In this notebook, we will show you how to implement linear regression from scratch. "
   ]
  },
  {
   "cell_type": "code",
   "execution_count": 1,
   "metadata": {
    "collapsed": true
   },
   "outputs": [],
   "source": [
    "import numpy as np\n",
    "import matplotlib.pyplot as plt\n",
    "import seaborn as sns\n",
    "\n",
    "sns.set()\n",
    "%matplotlib inline "
   ]
  },
  {
   "cell_type": "markdown",
   "metadata": {},
   "source": [
    "## Introduction \n",
    "\n",
    "In this chapter, we introduce linear models for regression applications. Linear models are relatively simple models but it is well worth studying linear models due to two main reasons. If the relationship between input features (denoted by $\\mathbf{x}$) and response variable (denoted by $\\mathbf{y}$) linear models perform better than more advanced machine learning models. Secondly, a firm understanding of linear models will help us to easily grasp more advanced concepts we will study under the non-linear models."
   ]
  },
  {
   "cell_type": "markdown",
   "metadata": {},
   "source": [
    "## Let’s Predict Car Price\n",
    "\n",
    "Let’s start our discussion with a simple real-world example. Assuming you are running a secondhand car showroom. The main object of your business is to sell used cars to potential customers. In order to prevent losing customers and hence, maximizing your profile, it is necessary to assign correct price tag for each car you are selling in your showroom. \n",
    "Since you are somewhat familiar with machine learning you are are going to address this problem using linear regression. From your previous experience, you are well aware a price tag of a car depends on several parameters such as mileage, manufacturing year, and engine capacity. For simplicity initially, we assume that price depends only on mileage, manufacturing year. So you collect those data from your previous successful deals and presented as shown in **Table 1**. "
   ]
  },
  {
   "cell_type": "markdown",
   "metadata": {},
   "source": [
    "<p><center>![Basic Tree Terminology](../../images/inkscape/car_prices_scatter.svg)</center></p>\n",
    "<p><center><b>Figure 1</b>: Basic Tree Terminology</center></p>\n",
    "\n",
    "\n",
    "<p><center>![Basic Tree Terminology](../../images/inkscape/possible_lines.svg)</center></p>\n",
    "<p><center><b>Figure 1</b>: Basic Tree Terminology</center></p>\n",
    "\n",
    "\n",
    "<p><center>![Basic Tree Terminology](../../images/inkscape/error_distances.svg)</center></p>\n",
    "<p><center><b>Figure 1</b>: Basic Tree Terminology</center></p>"
   ]
  },
  {
   "cell_type": "code",
   "execution_count": 2,
   "metadata": {
    "collapsed": true
   },
   "outputs": [],
   "source": [
    "class LinearRegression:\n",
    "    def __init__(self, learning_rate=1e-3, max_iters=250):\n",
    "        self.learning_rate = learning_rate\n",
    "        self.max_iters = max_iters\n",
    "        self.weights = None\n",
    "\n",
    "    def fit(self, X_train, y_train):\n",
    "        X_train = self._fit_intercept(X_train)\n",
    "        self.weights = np.random.rand(X_train.shape[1])\n",
    "\n",
    "        for iter in range(self.max_iters):\n",
    "            self.weights = self.weights - self.learning_rate * \\\n",
    "                self._grad(X_train, y_train, self.weights)\n",
    "            cost = self._cost(X_train, y_train, self.weights)\n",
    "            self._print_result(iter, cost)\n",
    "\n",
    "    def predict(self, X_predict):\n",
    "        \"\"\" This method predicts responses for new data.\n",
    "\n",
    "        This method will be used for end-users to predict responses\n",
    "        for future data.\n",
    "\n",
    "        Arguments:\n",
    "            X_predict: new data\n",
    "\n",
    "        Returns: a vector of responses            \n",
    "        \"\"\"\n",
    "        return X_predict @ self.weights\n",
    "\n",
    "    @staticmethod\n",
    "    def _cost(X_train, y_train, weights):\n",
    "        \"\"\"Calculates the cost w.r.t. weights\n",
    "\n",
    "        This helper method calculates the cost w.r.t. weights\n",
    "\n",
    "        Arguments:\n",
    "            X_train: training features\n",
    "            y_train: training labels.\n",
    "            weights: weights vector of the model\n",
    "        \n",
    "        Returns: scalar value which represents the cost\n",
    "        \"\"\"\n",
    "        dif = (y_train - X_train @ weights)\n",
    "        return (dif.T @ dif) / X_train.shape[0]\n",
    "\n",
    "    @staticmethod\n",
    "    def _fit_intercept(X_train):\n",
    "        \"\"\"Add the intercepting term to the training dataset\n",
    "\n",
    "        This simple helper method adds the intercepting term to the \n",
    "        training dataset.\n",
    "\n",
    "        Arguments:\n",
    "            X_train: training dataset\n",
    "\n",
    "        Returns: training dataset with the interceptor\n",
    "        \"\"\"\n",
    "        return np.column_stack((np.ones(X_train.shape[0]), X_train))\n",
    "\n",
    "    @staticmethod\n",
    "    def _grad(X_train, y_train, weights):\n",
    "        \"\"\"Calculates the gradient of the cost function w.r.t. weight vector\n",
    "\n",
    "        This methods calculated the gradient of the cost function w.r.t. \n",
    "        weight vector.\n",
    "\n",
    "        Arguments:\n",
    "            X_train: training features\n",
    "            y_train: training labels.\n",
    "            weights: weights vector of the model\n",
    "        \n",
    "        Returns: scalar value which represents the cost\n",
    "        \"\"\"\n",
    "        return 2 * (X_train.T @ (X_train @ weights - y_train)) / X_train.shape[0]\n",
    "\n",
    "    @staticmethod\n",
    "    def _print_result(iteration, cost):\n",
    "        if (iteration <= 10) or \\\n",
    "            (iteration <= 100 and iteration % 10 == 0) or \\\n",
    "            (iteration <= 1000 and iteration % 100 == 0) or \\\n",
    "            (iteration <= 10000 and iteration % 1000 == 0) or \\\n",
    "            (iteration <= 100000 and iteration % 10000 == 0) or \\\n",
    "                (iteration > 100000 and iteration % 50000 == 0):\n",
    "                print('iteration: {:10d}\\t\\tcost: {:1.4e}'.format(\n",
    "                    iteration, cost))"
   ]
  },
  {
   "cell_type": "code",
   "execution_count": 3,
   "metadata": {},
   "outputs": [
    {
     "name": "stdout",
     "output_type": "stream",
     "text": [
      "iteration:          0\t\tcost: 7.3503e-01\n",
      "iteration:          1\t\tcost: 6.6268e-01\n",
      "iteration:          2\t\tcost: 6.1323e-01\n",
      "iteration:          3\t\tcost: 5.7943e-01\n",
      "iteration:          4\t\tcost: 5.5632e-01\n",
      "iteration:          5\t\tcost: 5.4050e-01\n",
      "iteration:          6\t\tcost: 5.2967e-01\n",
      "iteration:          7\t\tcost: 5.2225e-01\n",
      "iteration:          8\t\tcost: 5.1715e-01\n",
      "iteration:          9\t\tcost: 5.1365e-01\n",
      "iteration:         10\t\tcost: 5.1122e-01\n",
      "iteration:         20\t\tcost: 5.0548e-01\n",
      "iteration:         30\t\tcost: 5.0457e-01\n",
      "iteration:         40\t\tcost: 5.0378e-01\n",
      "iteration:         50\t\tcost: 5.0300e-01\n",
      "iteration:         60\t\tcost: 5.0223e-01\n",
      "iteration:         70\t\tcost: 5.0147e-01\n",
      "iteration:         80\t\tcost: 5.0072e-01\n",
      "iteration:         90\t\tcost: 4.9999e-01\n",
      "iteration:        100\t\tcost: 4.9926e-01\n",
      "iteration:        200\t\tcost: 4.9251e-01\n"
     ]
    },
    {
     "data": {
      "image/png": "[encoded data removed]",
      "text/plain": [
       "<Figure size 1008x432 with 2 Axes>"
      ]
     },
     "metadata": {},
     "output_type": "display_data"
    }
   ],
   "source": [
    "X_train = np.array([2010, 2000, 1999, 2012, 2001, 2002,\n",
    "                        1997, 2008, 2003, 2013]).reshape((10, 1))\n",
    "X_train = X_train - X_train.min()\n",
    "y_train = np.array([5.5, 3.1, 2.0, 6.1, 2.1, 2.2, 0.8, 3.5, 4.0, 5.1])\n",
    "model = LinearRegression()\n",
    "model.fit(X_train, y_train)\n",
    "\n",
    "predicted_points = np.linspace(X_train.min(), X_train.max(), 100) * \\\n",
    "        model.weights[1] + model.weights[0]\n",
    "\n",
    "fig, axes = plt.subplots(1, 2, figsize=(14, 6))\n",
    "\n",
    "axes[0].scatter(X_train, y_train, s=75, color='#dd1c77', alpha=0.5, edgecolors='none')\n",
    "axes[0].set_title('Car Price Dataset')\n",
    "axes[0].set_xlabel('Car Price in 1000 USD')\n",
    "axes[0].set_ylabel('Manufacturing Year - 1996')\n",
    "\n",
    "axes[1].scatter(X_train, y_train, s=75, color='#dd1c77', alpha=0.5, edgecolors='none')\n",
    "axes[1].plot(np.linspace(X_train.min(), X_train.max(), 100),\n",
    "                 predicted_points, color='#c994c7', linewidth=3, alpha=0.5)\n",
    "axes[1].set_title('Car Price Dataset with Fitted Line')\n",
    "axes[1].set_xlabel('Car Price in 1000 USD')\n",
    "axes[1].set_ylabel('Manufacturing Year - 1996')\n",
    "\n",
    "fig.suptitle('Training a simple Linear Regression to car prices dataset')\n",
    "plt.show()"
   ]
  },
  {
   "cell_type": "markdown",
   "metadata": {
    "collapsed": true
   },
   "source": [
    "## Summary\n",
    "\n",
    "In this notebook, we implemented linear regression algorithms form the scratch. We started with necessary assumptions and derived all necessary mathematical formula. Next, we converted those formulae into python code."
   ]
  },
  {
   "cell_type": "markdown",
   "metadata": {},
   "source": [
    "## References and Further Reading"
   ]
  }
 ],
 "metadata": {
  "kernelspec": {
   "display_name": "Python 3",
   "language": "python",
   "name": "python3"
  },
  "language_info": {
   "codemirror_mode": {
    "name": "ipython",
    "version": 3
   },
   "file_extension": ".py",
   "mimetype": "text/x-python",
   "name": "python",
   "nbconvert_exporter": "python",
   "pygments_lexer": "ipython3",
   "version": "3.6.3"
  }
 },
 "nbformat": 4,
 "nbformat_minor": 2
}
